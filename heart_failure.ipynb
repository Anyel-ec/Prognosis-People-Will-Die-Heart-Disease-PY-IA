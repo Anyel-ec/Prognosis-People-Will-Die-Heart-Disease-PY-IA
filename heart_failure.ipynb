{
  "nbformat": 4,
  "nbformat_minor": 0,
  "metadata": {
    "colab": {
      "provenance": []
    },
    "kernelspec": {
      "name": "python3",
      "display_name": "Python 3"
    },
    "language_info": {
      "name": "python"
    }
  },
  "cells": [
    {
      "cell_type": "code",
      "execution_count": 1,
      "metadata": {
        "id": "JgTnwksVDqLG",
        "colab": {
          "base_uri": "https://localhost:8080/"
        },
        "outputId": "abfcfa88-5334-4411-c0ed-67c35d967285"
      },
      "outputs": [
        {
          "output_type": "stream",
          "name": "stdout",
          "text": [
            "Requirement already satisfied: pandas in /usr/local/lib/python3.10/dist-packages (2.0.3)\n",
            "Requirement already satisfied: python-dateutil>=2.8.2 in /usr/local/lib/python3.10/dist-packages (from pandas) (2.8.2)\n",
            "Requirement already satisfied: pytz>=2020.1 in /usr/local/lib/python3.10/dist-packages (from pandas) (2023.4)\n",
            "Requirement already satisfied: tzdata>=2022.1 in /usr/local/lib/python3.10/dist-packages (from pandas) (2024.1)\n",
            "Requirement already satisfied: numpy>=1.21.0 in /usr/local/lib/python3.10/dist-packages (from pandas) (1.25.2)\n",
            "Requirement already satisfied: six>=1.5 in /usr/local/lib/python3.10/dist-packages (from python-dateutil>=2.8.2->pandas) (1.16.0)\n",
            "Requirement already satisfied: scikit-learn in /usr/local/lib/python3.10/dist-packages (1.2.2)\n",
            "Requirement already satisfied: numpy>=1.17.3 in /usr/local/lib/python3.10/dist-packages (from scikit-learn) (1.25.2)\n",
            "Requirement already satisfied: scipy>=1.3.2 in /usr/local/lib/python3.10/dist-packages (from scikit-learn) (1.11.4)\n",
            "Requirement already satisfied: joblib>=1.1.1 in /usr/local/lib/python3.10/dist-packages (from scikit-learn) (1.4.2)\n",
            "Requirement already satisfied: threadpoolctl>=2.0.0 in /usr/local/lib/python3.10/dist-packages (from scikit-learn) (3.5.0)\n"
          ]
        }
      ],
      "source": [
        "!pip install pandas\n",
        "!pip install scikit-learn"
      ]
    },
    {
      "cell_type": "markdown",
      "source": [
        "**Arbol de Decision**"
      ],
      "metadata": {
        "id": "H3nnYNBpFDAB"
      }
    },
    {
      "cell_type": "code",
      "source": [
        "import pandas as pd\n",
        "from sklearn.model_selection import train_test_split\n",
        "from sklearn.tree import DecisionTreeClassifier\n",
        "from sklearn.metrics import classification_report\n",
        "\n",
        "# Carga el conjunto de datos en un DataFrame de Pandas\n",
        "df = pd.read_csv('heart_failure.csv')\n",
        "\n",
        "# Asegúrate de que no haya valores nulos en el DataFrame\n",
        "df = df.dropna()\n",
        "\n",
        "# Divide los datos en características (X) y etiquetas (y)\n",
        "X = df.drop('DEATH_EVENT', axis=1)  # características\n",
        "y = df['DEATH_EVENT']  # etiquetas\n",
        "\n",
        "# Divide los datos en conjuntos de entrenamiento y prueba\n",
        "X_train, X_test, y_train, y_test = train_test_split(X, y, test_size=0.20, random_state=42)\n",
        "\n",
        "# Entrena el clasificador de árbol de decisiones\n",
        "clf = DecisionTreeClassifier()\n",
        "clf.fit(X_train, y_train)\n",
        "\n",
        "# Realiza predicciones sobre los datos de prueba\n",
        "predictions = clf.predict(X_test)\n",
        "\n",
        "# Imprime el informe de clasificación\n",
        "print(classification_report(y_test, predictions))\n",
        "\n",
        "# Angel Patiño"
      ],
      "metadata": {
        "colab": {
          "base_uri": "https://localhost:8080/"
        },
        "id": "wHMZGpk0EJBY",
        "outputId": "8fe3cc42-104a-409b-fe75-efc99c387131"
      },
      "execution_count": null,
      "outputs": [
        {
          "output_type": "stream",
          "name": "stdout",
          "text": [
            "              precision    recall  f1-score   support\n",
            "\n",
            "           0       0.67      0.83      0.74        35\n",
            "           1       0.65      0.44      0.52        25\n",
            "\n",
            "    accuracy                           0.67        60\n",
            "   macro avg       0.66      0.63      0.63        60\n",
            "weighted avg       0.66      0.67      0.65        60\n",
            "\n"
          ]
        }
      ]
    },
    {
      "cell_type": "code",
      "source": [
        "import pandas as pd\n",
        "from sklearn.model_selection import train_test_split\n",
        "from sklearn.svm import SVC\n",
        "from sklearn.metrics import classification_report, precision_score\n",
        "\n",
        "# Carga el conjunto de datos en un DataFrame de Pandas\n",
        "df = pd.read_csv('heart_failure.csv')\n",
        "\n",
        "# Asegúrate de que no haya valores nulos en el DataFrame\n",
        "df = df.dropna()\n",
        "\n",
        "# Divide los datos en características (X) y etiquetas (y)\n",
        "X = df.drop('DEATH_EVENT', axis=1)  # características\n",
        "y = df['DEATH_EVENT']  # etiquetas\n",
        "\n",
        "# Divide los datos en conjuntos de entrenamiento y prueba\n",
        "X_train, X_test, y_train, y_test = train_test_split(X, y, test_size=0.20, random_state=42)\n",
        "\n",
        "# Entrena el clasificador SVM\n",
        "clf = SVC(kernel='linear')\n",
        "clf.fit(X_train, y_train)\n",
        "\n",
        "# Realiza predicciones sobre los datos de prueba\n",
        "predictions = clf.predict(X_test)\n",
        "\n",
        "# Calcula la precisión\n",
        "precision = precision_score(y_test, predictions, pos_label=1)\n",
        "\n",
        "# Imprime el informe de clasificación y la precisión\n",
        "print(\"Precisión:\", precision)\n",
        "print(classification_report(y_test, predictions))\n",
        "#Angel Patiño"
      ],
      "metadata": {
        "colab": {
          "base_uri": "https://localhost:8080/"
        },
        "collapsed": true,
        "id": "gtMorAxGGEdu",
        "outputId": "8c07198a-e0fe-43fc-94de-94c70f0d7c98"
      },
      "execution_count": 2,
      "outputs": [
        {
          "output_type": "stream",
          "name": "stdout",
          "text": [
            "Precisión: 0.8125\n",
            "              precision    recall  f1-score   support\n",
            "\n",
            "           0       0.73      0.91      0.81        35\n",
            "           1       0.81      0.52      0.63        25\n",
            "\n",
            "    accuracy                           0.75        60\n",
            "   macro avg       0.77      0.72      0.72        60\n",
            "weighted avg       0.76      0.75      0.74        60\n",
            "\n"
          ]
        }
      ]
    }
  ]
}